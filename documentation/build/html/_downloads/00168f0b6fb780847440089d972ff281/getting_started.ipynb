{
  "cells": [
    {
      "cell_type": "markdown",
      "source": [
        "# This notebook shows some basic time series analysis\n",
        "* author: nocquet@geoazur.unice.fr\n",
        "* date: 07/05/2020"
      ],
      "metadata": {
        "nteract": {
          "transient": {
            "deleting": false
          }
        }
      }
    },
    {
      "cell_type": "markdown",
      "source": [
        "Load all time series as a Sgts (Geodetic Time Series Super Class) "
      ],
      "metadata": {
        "nteract": {
          "transient": {
            "deleting": false
          }
        }
      }
    },
    {
      "cell_type": "code",
      "source": [
        "# import\n",
        "from pyacs.gts.Sgts import Sgts\n",
        "# directory where the time series are\n",
        "ts_dir = '../data/pos'\n",
        "# load the time series\n",
        "ts = Sgts(ts_dir=ts_dir, verbose=False)"
      ],
      "outputs": [],
      "execution_count": null,
      "metadata": {
        "collapsed": true,
        "outputExpanded": false,
        "jupyter": {
          "source_hidden": false,
          "outputs_hidden": false
        },
        "nteract": {
          "transient": {
            "deleting": false
          }
        },
        "execution": {
          "iopub.status.busy": "2020-05-07T16:53:55.839Z",
          "iopub.execute_input": "2020-05-07T16:53:55.841Z",
          "iopub.status.idle": "2020-05-07T16:53:57.293Z",
          "shell.execute_reply": "2020-05-07T16:53:57.295Z"
        }
      }
    },
    {
      "cell_type": "code",
      "source": [
        "# print available Geodetic Time Series as a list\n",
        "ts.lcode()"
      ],
      "outputs": [],
      "execution_count": null,
      "metadata": {
        "collapsed": true,
        "outputExpanded": false,
        "jupyter": {
          "source_hidden": false,
          "outputs_hidden": false
        },
        "nteract": {
          "transient": {
            "deleting": false
          }
        },
        "execution": {
          "iopub.status.busy": "2020-05-07T16:54:14.051Z",
          "iopub.execute_input": "2020-05-07T16:54:14.054Z",
          "iopub.status.idle": "2020-05-07T16:54:14.060Z",
          "shell.execute_reply": "2020-05-07T16:54:14.061Z"
        }
      }
    },
    {
      "cell_type": "code",
      "source": [
        "# plot time series for YAKI\n",
        "ts.YAKI.plot()\n",
        "# detrend YAKI using least-squares and plot it\n",
        "ts.YAKI.detrend().plot()\n",
        "# detrend and remove seasonal terms using least-squares\n",
        "ts.YAKI.detrend_seasonal().plot()\n",
        "# see plot in a separate interactive QT window\n",
        "%matplotlib qt\n",
        "ts.YAKI.detrend().plot()"
      ],
      "outputs": [],
      "execution_count": null,
      "metadata": {
        "collapsed": true,
        "outputExpanded": false,
        "jupyter": {
          "source_hidden": false,
          "outputs_hidden": false
        },
        "nteract": {
          "transient": {
            "deleting": false
          }
        },
        "execution": {
          "iopub.status.busy": "2020-05-07T16:59:32.394Z",
          "iopub.execute_input": "2020-05-07T16:59:32.396Z",
          "iopub.status.idle": "2020-05-07T16:59:36.620Z",
          "shell.execute_reply": "2020-05-07T16:59:36.626Z"
        }
      }
    },
    {
      "cell_type": "code",
      "source": [
        "# find outliers using a sliding window of 3 days, excluding residuals larger than 3 times the median\n",
        "help(ts.YAKI.find_outliers_sliding_window)\n",
        "#ts.YAKI.find_outliers_sliding_window(threshold=3,window_len=3).plot()\n",
        "# includes the Up component in the search of outliers, detrend and plot\n",
        "ts.YAKI.find_outliers_sliding_window(threshold=3,window_len=3, component='ENU').detrend().plot()\n",
        "# same but not actually removes the outliers (before they were only flagged) and save the clean time series\n",
        "cln_YAKI = ts.YAKI.find_outliers_sliding_window(threshold=3,window_len=3, component='ENU').remove_outliers()\n",
        "# see the result\n",
        "cln_YAKI.detrend().plot()\n",
        "\n",
        "# there are two obvious offsets\n",
        "# Let's try to detect it, with the default values\n",
        "cln_YAKI.find_offsets_edge_filter().plot()\n",
        "# Not perfect, but still useful\n",
        "# See how then get estimated\n",
        "cln_YAKI.find_offsets_edge_filter().plot().detrend().plot().info()\n",
        "# My own implementation of MIDAS velocity\n",
        "cln_YAKI.find_offsets_edge_filter().detrend_median().plot().info()"
      ],
      "outputs": [],
      "execution_count": null,
      "metadata": {
        "collapsed": true,
        "outputExpanded": false,
        "jupyter": {
          "source_hidden": false,
          "outputs_hidden": false
        },
        "nteract": {
          "transient": {
            "deleting": false
          }
        },
        "execution": {
          "iopub.status.busy": "2020-05-07T17:26:26.149Z",
          "iopub.execute_input": "2020-05-07T17:26:26.151Z",
          "iopub.status.idle": "2020-05-07T17:26:39.070Z",
          "shell.execute_reply": "2020-05-07T17:26:39.140Z"
        }
      }
    },
    {
      "cell_type": "code",
      "source": [
        "\n",
        "\n",
        "#ts.YAKI.plot(superimposed=ts.YAKI.vondrak(fc=10))\n",
        "#ts.YAKI.find_outliers_vondrak(fc=10,threshold=3).plot()"
      ],
      "outputs": [],
      "execution_count": null,
      "metadata": {
        "collapsed": true,
        "outputExpanded": false,
        "jupyter": {
          "source_hidden": false,
          "outputs_hidden": false
        },
        "nteract": {
          "transient": {
            "deleting": false
          }
        }
      }
    }
  ],
  "metadata": {
    "kernel_info": {
      "name": "python3"
    },
    "language_info": {
      "name": "python",
      "version": "3.7.6",
      "mimetype": "text/x-python",
      "codemirror_mode": {
        "name": "ipython",
        "version": 3
      },
      "pygments_lexer": "ipython3",
      "nbconvert_exporter": "python",
      "file_extension": ".py"
    },
    "kernelspec": {
      "argv": [
        "/usr/local/geodesy/anaconda37/bin/python",
        "-m",
        "ipykernel_launcher",
        "-f",
        "{connection_file}"
      ],
      "display_name": "Python 3",
      "language": "python",
      "name": "python3"
    },
    "nteract": {
      "version": "0.23.1"
    }
  },
  "nbformat": 4,
  "nbformat_minor": 0
}