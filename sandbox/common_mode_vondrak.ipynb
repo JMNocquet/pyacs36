{
 "cells": [
  {
   "cell_type": "code",
   "execution_count": 1,
   "metadata": {
    "collapsed": true
   },
   "outputs": [],
   "source": [
    "###############################################################################\n",
    "def common_mode_vondrak(Sgts, fc, verbose=True):\n",
    "\n",
    "    import numpy as np\n",
    "    import scipy.linalg\n",
    "    import pyacs.lib.glinalg\n",
    "    import copy\n",
    "    from pyacs.gts.Gts import Gts\n",
    "\n",
    "    def get_A(t):\n",
    "\n",
    "        import numpy\n",
    "\n",
    "        eps = (7.223147119819503*fc) ** 6 / (len(t) - 3)\n",
    "        num = 6 * numpy.sqrt(t[2:-1] - t[1:-2])\n",
    "\n",
    "\n",
    "        den = numpy.sqrt(t[-1] - t[0])\n",
    "\n",
    "        a = numpy.hstack((0, 0, 0, num / den / ((t[0:-3] - t[1:-2]) * (t[0:-3] - t[2:-1]) * (t[0:-3] - t[3:])),   0, 0, 0))\n",
    "        b = numpy.hstack((0, 0, 0, num / den / ((t[1:-2] - t[0:-3]) * (t[1:-2] - t[2:-1]) * (t[1:-2] - t[3:])),   0, 0, 0))\n",
    "        c = numpy.hstack((0, 0, 0, num / den / ((t[2:-1] - t[0:-3]) * (t[2:-1] - t[1:-2]) * (t[2:-1] - t[3:])),   0, 0, 0))\n",
    "        d = numpy.hstack((0, 0, 0, num / den / ((t[3:]   - t[0:-3]) * (t[3:]   - t[1:-2]) * (t[3:]   - t[2:-1])), 0, 0, 0))\n",
    "\n",
    "        d0 = eps + a[3:]**2 + b[2:-1]**2 + c[1:-2]**2 + d[0:-3]**2\n",
    "        d1 = a[3:-1] * b[3:-1] + b[2:-2] * c[2:-2] + c[1:-3] * d[1:-3]\n",
    "        d2 = a[3:-2] * c[3:-2] + b[2:-3] * d[2:-3]\n",
    "        d3 = a[3:-3] * d[3:-3]\n",
    "\n",
    "        A  = numpy.diag(d0) + numpy.diag(d1,1) + numpy.diag(d1,-1) + numpy.diag(d2,2) + numpy.diag(d2,-2) + numpy.diag(d3,3) + numpy.diag(d3,-3)\n",
    "\n",
    "        return A/eps\n",
    "\n",
    "    # convert Sgts to observation tensor\n",
    "    import pyeq.lib.obs_tensor.sgts2obs_tensor\n",
    "    import pyacs.lib.astrotime as at\n",
    "    T_OBS_RAW , np_names_t_obs, np_obs_date_s = \\\n",
    "        pyeq.lib.obs_tensor.sgts2obs_tensor.sgts2tensor( Sgts, rounding='day' , verbose=False )\n",
    "\n",
    "    print('T_OBS_RAW ',T_OBS_RAW.shape)\n",
    "    Ge = None\n",
    "    de = None\n",
    "    lGe = []\n",
    "    lde = []\n",
    "    lcmme = []\n",
    "    lidx = []\n",
    "    for i in np.arange(np_names_t_obs.shape[0]):\n",
    "        CMM = np.eye((T_OBS_RAW.shape[0]))\n",
    "        code = np_names_t_obs[i]\n",
    "        print(\"-- getting Vondrak matrix for %s\" % (code) )\n",
    "        # get index with values\n",
    "        lindex = np.where( np.isfinite( T_OBS_RAW[:,i,0] )  )[0]\n",
    "        lidx.append(lindex.size)\n",
    "        # append A\n",
    "        #lGe.append( get_A( at.datetime2decyear( at.seconds2datetime(np_obs_date_s[lindex]) ) ) )\n",
    "        lGe.append( np.eye((lindex.size)) )\n",
    "        print(lGe[-1].shape)\n",
    "        # append observation\n",
    "        lde.append( T_OBS_RAW[lindex,i,0] )\n",
    "        # common mode parameters\n",
    "        lcmme.append( CMM[lindex] )\n",
    "\n",
    "\n",
    "    #print(lde)\n",
    "    # building the linear system\n",
    "    print(\"-- building the linear system\")\n",
    "    G = scipy.linalg.block_diag(*lGe)\n",
    "    print(G.shape)\n",
    "    print(lde)\n",
    "    D = np.hstack(np.array( lde ) )\n",
    "    print(D.shape)\n",
    "\n",
    "    # common mode components matrix\n",
    "    A_CMM = np.vstack( lcmme )\n",
    "    print(A_CMM.shape)\n",
    "    # stack\n",
    "    G = np.hstack((G,A_CMM))\n",
    "\n",
    "    x, res, rnk, s = scipy.linalg.lstsq(G,D)\n",
    "\n",
    "    # out Sgts\n",
    "    out_sgts = copy.deepcopy( Sgts )\n",
    "    idx = 0\n",
    "    for i in np.arange(np_names_t_obs.shape[0]):\n",
    "        code = np_names_t_obs[i]\n",
    "        out_sgts.__dict__[code].data[:,2] = x[idx:idx+lidx[i]] * 1E-3\n",
    "        idx += lidx[i]\n",
    "\n",
    "    out_sgts.append( Gts(code='CMM_') )\n",
    "\n",
    "    out_sgts.CMM_.data = np.zeros(( T_OBS_RAW.shape[0],10 ))\n",
    "    out_sgts.CMM_.data[:,0] = at.datetime2decyear( at.seconds2datetime( np_obs_date_s ))\n",
    "    out_sgts.CMM_.data[:,2] = x[idx:] * 1.E-3\n",
    "\n",
    "\n",
    "\n",
    "    return out_sgts"
   ]
  },
  {
   "cell_type": "code",
   "execution_count": 1,
   "outputs": [],
   "source": [
    "from pyacs.gts.Sgts import Sgts\n",
    "import matplotlib.pyplot as plt\n",
    "%matplotlib qt\n",
    "\n",
    "ts_dir = '/Users/nocquet/Dropbox/sse_project/ecuador/pck'\n",
    "ts = Sgts(ts_dir, verbose=True)\n",
    "# 'OVSC',\n",
    "lsite=['POVA','QUIL','AUCA','TEN1','PREC','MAEC','SIEC','GZEC','YTZA',\\\n",
    "       'LUMB','SNLR','TUCO','PASI','COCH','ALEC','PIS1','CXEC','RIOP','GMTE',\\\n",
    "       'CHZO','BAYO']\n",
    "ts_ref = ts.sub(linclude=lsite).gts('extract_periods',[2014,2015.1])\n",
    "# gts('detrend_median').\n",
    "#ts_ref.QUIL.plot()"
   ],
   "metadata": {
    "collapsed": false,
    "pycharm": {
     "name": "#%%\n"
    }
   }
  },
  {
   "cell_type": "code",
   "execution_count": null,
   "outputs": [],
   "source": [
    "nts = common_mode_vondrak(ts_ref,10,verbose=True)\n"
   ],
   "metadata": {
    "collapsed": false,
    "pycharm": {
     "name": "#%%\n"
    }
   }
  },
  {
   "cell_type": "code",
   "execution_count": null,
   "outputs": [],
   "source": [
    "nts.CMM_.data"
   ],
   "metadata": {
    "collapsed": false,
    "pycharm": {
     "name": "#%%\n"
    }
   }
  },
  {
   "cell_type": "code",
   "execution_count": null,
   "outputs": [],
   "source": [
    "\n"
   ],
   "metadata": {
    "collapsed": false,
    "pycharm": {
     "name": "#%%\n"
    }
   }
  }
 ],
 "metadata": {
  "kernelspec": {
   "display_name": "Python 3",
   "language": "python",
   "name": "python3"
  },
  "language_info": {
   "codemirror_mode": {
    "name": "ipython",
    "version": 2
   },
   "file_extension": ".py",
   "mimetype": "text/x-python",
   "name": "python",
   "nbconvert_exporter": "python",
   "pygments_lexer": "ipython2",
   "version": "2.7.6"
  }
 },
 "nbformat": 4,
 "nbformat_minor": 0
}